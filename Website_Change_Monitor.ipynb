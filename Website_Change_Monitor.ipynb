{
  "nbformat": 4,
  "nbformat_minor": 0,
  "metadata": {
    "colab": {
      "name": "Website Change Monitor.ipynb",
      "provenance": []
    },
    "kernelspec": {
      "name": "python3",
      "display_name": "Python 3"
    },
    "language_info": {
      "name": "python"
    }
  },
  "cells": [
    {
      "cell_type": "code",
      "execution_count": null,
      "metadata": {
        "colab": {
          "base_uri": "https://localhost:8080/"
        },
        "id": "2Sfu7ltDxu-6",
        "outputId": "6cc3fbba-4b69-4596-dccf-b79168b0f7f3"
      },
      "outputs": [
        {
          "output_type": "stream",
          "name": "stdout",
          "text": [
            "running\n"
          ]
        }
      ],
      "source": [
        "# Importing libraries\n",
        "import time\n",
        "import hashlib\n",
        "from urllib.request import urlopen, Request\n",
        "\n",
        "import ssl\n",
        "ssl._create_default_https_context = ssl._create_unverified_context\n",
        "\n",
        "# setting the URL you want to monitor\n",
        "url = Request('https://iitr.ac.in/Departments/Polymer%20and%20Process%20Engineering%20Department/Home.html',\n",
        "\t\t\theaders={'User-Agent': 'Mozilla/5.0'})\n",
        "\n",
        "# to perform a GET request and load the\n",
        "# content of the website and store it in a var\n",
        "response = urlopen(url).read()\n",
        "\n",
        "# to create the initial hash\n",
        "currentHash = hashlib.sha224(response).hexdigest()\n",
        "print(\"running\")\n",
        "time.sleep(10)\n",
        "while True:\n",
        "\ttry:\n",
        "\t\t# perform the get request and store it in a var\n",
        "\t\tresponse = urlopen(url).read()\n",
        "\t\t\n",
        "\t\t# create a hash\n",
        "\t\tcurrentHash = hashlib.sha224(response).hexdigest()\n",
        "\t\t\n",
        "\t\t# wait for 30 seconds\n",
        "\t\ttime.sleep(30)\n",
        "\t\t\n",
        "\t\t# perform the get request\n",
        "\t\tresponse = urlopen(url).read()\n",
        "\t\t\n",
        "\t\t# create a new hash\n",
        "\t\tnewHash = hashlib.sha224(response).hexdigest()\n",
        "\n",
        "\t\t# check if new hash is same as the previous hash\n",
        "\t\tif newHash == currentHash:\n",
        "\t\t\tcontinue\n",
        "\n",
        "\t\t# if something changed in the hashes\n",
        "\t\telse:\n",
        "\t\t\t# notify\n",
        "\t\t\tprint(\"something changed\")\n",
        "\n",
        "\t\t\t# again read the website\n",
        "\t\t\tresponse = urlopen(url).read()\n",
        "\n",
        "\t\t\t# create a hash\n",
        "\t\t\tcurrentHash = hashlib.sha224(response).hexdigest()\n",
        "\n",
        "\t\t\t# wait for 30 seconds\n",
        "\t\t\ttime.sleep(30)\n",
        "\t\t\tcontinue\n",
        "\t\t\t\n",
        "\t# To handle exceptions\n",
        "\texcept Exception as e:\n",
        "\t\tprint(\"error\")\n"
      ]
    }
  ]
}